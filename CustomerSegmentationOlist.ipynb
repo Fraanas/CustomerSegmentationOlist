version https://git-lfs.github.com/spec/v1
oid sha256:3a728de2e05c82366bfad4cb9637c5d772319e0d2079becbb76f9bf6298a9d45
size 50666162
